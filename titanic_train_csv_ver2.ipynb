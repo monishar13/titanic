{
 "cells": [
  {
   "cell_type": "code",
   "execution_count": 92,
   "id": "65c99f1b",
   "metadata": {},
   "outputs": [],
   "source": [
    "#Monisha Ramasamy \n",
    "#202204354\n",
    "#x2022ekh@stfx.ca\n",
    "\n",
    "import pandas as pd # Used to read data frame and save data frame\n",
    "import numpy as np # Used to manupulate data \n",
    "from sklearn.preprocessing import StandardScaler, MinMaxScaler\n",
    "from sklearn import preprocessing\n",
    "from sklearn.model_selection import train_test_split\n",
    "from sklearn.svm import LinearSVC\n",
    "from sklearn.ensemble import GradientBoostingClassifier"
   ]
  },
  {
   "cell_type": "code",
   "execution_count": 93,
   "id": "3bc74243",
   "metadata": {},
   "outputs": [],
   "source": [
    "data = pd.read_csv(\"./train.csv\")"
   ]
  },
  {
   "cell_type": "code",
   "execution_count": 94,
   "id": "02b437dd",
   "metadata": {},
   "outputs": [],
   "source": [
    "data[\"Cabin\"] = data[\"Cabin\"].fillna(\"C1\") \n",
    "data[\"Age\"] = data[\"Age\"].fillna(data[\"Age\"].mean())\n",
    "data[\"Embarked\"] = data[\"Embarked\"].fillna(\"S\")\n",
    "data[\"Fare\"] = data[\"Fare\"].fillna(data[\"Fare\"].mean())\n",
    "data['Title_str'] = data['Name'].str.split(',', expand=True)[1].str.split('.', expand=True)[0]\n",
    "# label encoding\n",
    "le = preprocessing.LabelEncoder()\n",
    "data['Sex'] = le.fit_transform(data['Sex'])\n",
    "data['Embarked'] = le.fit_transform(data['Embarked'])\n",
    "data['Cabin'] = le.fit_transform(data['Cabin'])\n",
    "\n",
    "data['Persons_accompanied'] = le.fit_transform(data['SibSp']+data['Parch'])\n",
    "data['Title'] = le.fit_transform(data['Title_str'])"
   ]
  },
  {
   "cell_type": "code",
   "execution_count": 95,
   "id": "ceb25e83",
   "metadata": {},
   "outputs": [],
   "source": [
    "X = ['Age', 'Fare']\n",
    "scale = MinMaxScaler()\n",
    "features = data[X]\n",
    "scale.fit(data[X])\n",
    "data[X] = scale.fit_transform(features.values)\n",
    "#data[['Age', 'Fare']] = scale.fit_transform(X)"
   ]
  },
  {
   "cell_type": "code",
   "execution_count": 96,
   "id": "856d1f56",
   "metadata": {},
   "outputs": [],
   "source": [
    "X = data[['PassengerId', 'Title', 'Age', 'Pclass', 'Sex', 'Persons_accompanied', 'Fare']]\n",
    "y = data['Survived']"
   ]
  },
  {
   "cell_type": "code",
   "execution_count": 97,
   "id": "931f0551",
   "metadata": {},
   "outputs": [],
   "source": [
    "X_train, X_test,y_train, y_test = train_test_split(X,y,test_size=0.25,shuffle=True)"
   ]
  },
  {
   "cell_type": "code",
   "execution_count": 98,
   "id": "3dc6f5cd",
   "metadata": {},
   "outputs": [],
   "source": [
    "model = GradientBoostingClassifier()"
   ]
  },
  {
   "cell_type": "code",
   "execution_count": 99,
   "id": "b2c48fdb",
   "metadata": {},
   "outputs": [
    {
     "data": {
      "text/plain": [
       "0.8251121076233184"
      ]
     },
     "execution_count": 99,
     "metadata": {},
     "output_type": "execute_result"
    }
   ],
   "source": [
    "model.fit(X_train, y_train)\n",
    "model.score(X_test,y_test)"
   ]
  },
  {
   "cell_type": "code",
   "execution_count": 100,
   "id": "f3774fd9",
   "metadata": {},
   "outputs": [],
   "source": [
    "data_test = pd.read_csv(\"./test.csv\")\n",
    "data_test[\"Cabin\"] = data_test[\"Cabin\"].fillna(\"C1\") \n",
    "data_test[\"Age\"] = data_test[\"Age\"].fillna(data_test[\"Age\"].mean())\n",
    "data_test[\"Embarked\"] = data_test[\"Embarked\"].fillna(\"S\")\n",
    "data_test[\"Fare\"] = data_test[\"Fare\"].fillna(data_test[\"Fare\"].mean())\n",
    "data_test['Title_str'] = data_test['Name'].str.split(',', expand=True)[1].str.split('.', expand=True)[0]\n",
    "\n",
    "le_test = preprocessing.LabelEncoder()\n",
    "data_test['Sex'] = le_test.fit_transform(data_test['Sex'])\n",
    "\n",
    "data_test['Embarked'] = le.fit_transform(data_test['Embarked'])\n",
    "data_test['Cabin'] = le.fit_transform(data_test['Cabin'])\n",
    "data_test['Persons_accompanied'] = le.fit_transform(data_test['SibSp']+data_test['Parch'])\n",
    "data_test['Title'] = le.fit_transform(data_test['Title_str'])\n",
    "\n",
    "data_test_predict = data_test[['PassengerId', 'Title', 'Age', 'Pclass', 'Sex', 'Persons_accompanied', 'Fare']]\n"
   ]
  },
  {
   "cell_type": "code",
   "execution_count": 101,
   "id": "18d1e02f",
   "metadata": {},
   "outputs": [
    {
     "name": "stdout",
     "output_type": "stream",
     "text": [
      "[1 1 1 1 1 1 1 1 1 1 1 1 1 1 1 1 1 1 1 1 1 1 1 1 1 1 1 1 1 1 1 1 1 1 1 1 1\n",
      " 1 1 1 1 1 1 1 1 1 1 1 1 1 1 1 1 1 1 1 1 1 1 1 1 1 1 1 1 1 1 1 1 1 1 1 1 1\n",
      " 1 1 1 1 1 1 1 1 1 1 1 1 1 1 1 1 1 1 1 1 1 1 1 1 1 1 1 1 1 1 1 1 1 1 1 1 1\n",
      " 1 1 1 1 1 1 1 1 1 1 1 1 1 1 1 1 1 1 1 1 1 1 1 1 1 1 1 1 1 1 1 1 1 1 1 1 1\n",
      " 1 1 1 1 1 1 1 1 1 1 1 1 1 1 1 1 1 1 1 1 1 1 1 1 1 1 1 1 1 1 1 1 1 1 1 1 1\n",
      " 1 1 1 1 1 1 1 1 1 1 1 1 1 1 1 1 0 1 1 1 1 1 1 1 1 1 1 1 1 1 1 1 1 1 1 1 1\n",
      " 1 1 1 1 1 1 1 1 1 1 1 1 1 1 1 1 1 1 1 1 1 1 1 1 1 1 1 1 1 1 1 1 1 1 1 1 1\n",
      " 1 1 1 1 1 1 1 1 1 1 1 1 1 1 1 1 1 1 1 1 1 1 0 1 1 1 1 1 1 1 1 1 1 1 1 1 1\n",
      " 1 1 1 1 1 1 1 1 1 1 1 0 1 1 1 1 1 1 1 1 1 1 1 1 1 1 1 1 1 1 1 1 1 1 1 1 1\n",
      " 1 1 1 1 1 1 1 1 1 1 1 1 1 1 1 1 1 1 1 1 1 1 1 1 1 1 1 1 1 1 1 1 1 1 1 1 1\n",
      " 1 1 1 1 1 1 1 1 1 1 1 1 1 1 1 1 1 1 1 1 1 1 1 1 1 1 1 1 1 1 1 1 1 1 1 1 1\n",
      " 1 1 1 1 1 1 1 1 1 1 1]\n"
     ]
    }
   ],
   "source": [
    "predict = model.predict(data_test_predict)\n",
    "print(predict)"
   ]
  },
  {
   "cell_type": "code",
   "execution_count": 102,
   "id": "c4ade8d8",
   "metadata": {},
   "outputs": [],
   "source": [
    "survived_data = pd.DataFrame(predict, columns=[\"Survived\"])\n",
    "passenger_id = pd.DataFrame(data_test[\"PassengerId\"], columns=[\"PassengerId\"])\n",
    "\n",
    "\n",
    "passenger_id[\"Survived\"] = survived_data\n",
    "passenger_id.to_csv(\"submission_file.csv\", index=False)"
   ]
  },
  {
   "cell_type": "code",
   "execution_count": null,
   "id": "ed1fd5be",
   "metadata": {},
   "outputs": [],
   "source": []
  }
 ],
 "metadata": {
  "kernelspec": {
   "display_name": "Python 3 (ipykernel)",
   "language": "python",
   "name": "python3"
  },
  "language_info": {
   "codemirror_mode": {
    "name": "ipython",
    "version": 3
   },
   "file_extension": ".py",
   "mimetype": "text/x-python",
   "name": "python",
   "nbconvert_exporter": "python",
   "pygments_lexer": "ipython3",
   "version": "3.9.13"
  }
 },
 "nbformat": 4,
 "nbformat_minor": 5
}
